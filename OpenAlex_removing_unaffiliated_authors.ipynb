{
  "nbformat": 4,
  "nbformat_minor": 0,
  "metadata": {
    "colab": {
      "provenance": [],
      "mount_file_id": "1doKDnow8Qg3bh4mLzHm94TM-Susb_7k5",
      "authorship_tag": "ABX9TyNO5MINIjBQyVG9Ma6Na/Uh",
      "include_colab_link": true
    },
    "kernelspec": {
      "name": "python3",
      "display_name": "Python 3"
    },
    "language_info": {
      "name": "python"
    }
  },
  "cells": [
    {
      "cell_type": "markdown",
      "metadata": {
        "id": "view-in-github",
        "colab_type": "text"
      },
      "source": [
        "<a href=\"https://colab.research.google.com/github/andgreenman/OpenAlex-removing-unaffiliated-authors/blob/main/OpenAlex_removing_unaffiliated_authors.ipynb\" target=\"_parent\"><img src=\"https://colab.research.google.com/assets/colab-badge.svg\" alt=\"Open In Colab\"/></a>"
      ]
    },
    {
      "cell_type": "markdown",
      "source": [
        "This script takes an OpenAlex search export csv and deletes all listed authors without a specified affiliation for the purposes of using Biblioshiny to create a network graph and examine collaboration solely between authors at one institution. VOSviewer can also be used with further processing, found in another of my scripts.\n",
        "\n",
        "A major limitation of this is that any work where the author count does not match the affiliation count due to multiple affiliations must be excluded, as it is impossible to determine which affiliation corresponds to which author in these cases."
      ],
      "metadata": {
        "id": "r14avsyWg1vN"
      }
    },
    {
      "cell_type": "code",
      "source": [
        "import datetime\n",
        "import pandas as pd"
      ],
      "metadata": {
        "id": "7Hpqo64zWKPz"
      },
      "execution_count": 1,
      "outputs": []
    },
    {
      "cell_type": "code",
      "source": [
        "file = r'' #put csv file path string here"
      ],
      "metadata": {
        "id": "URvb26g1WLT5"
      },
      "execution_count": 2,
      "outputs": []
    },
    {
      "cell_type": "code",
      "source": [
        "institution = '' #put institution name here"
      ],
      "metadata": {
        "id": "5dS2zBdZ9edj"
      },
      "execution_count": 11,
      "outputs": []
    },
    {
      "cell_type": "code",
      "source": [
        "works = pd.read_csv(file, header=0)\n",
        "df = pd.DataFrame(works)\n",
        "df.dropna(subset='publication_year') # OpenAlex exports sometimes have random junk rows, usually this catches them"
      ],
      "metadata": {
        "id": "oLJm4WtHWPyw",
        "collapsed": true
      },
      "execution_count": null,
      "outputs": []
    },
    {
      "cell_type": "code",
      "source": [
        "authorship_columns = ['authorships.author_position', 'authorships.institutions',\n",
        "                      'authorships.countries', 'authorships.is_corresponding',\n",
        "                      'authorships.raw_author_name', 'authorships.raw_affiliation_strings',\n",
        "                      'authorships.affiliations', 'authorships.author.id',\n",
        "                      'authorships.author.display_name', 'authorships.author.orcid']"
      ],
      "metadata": {
        "id": "cj2FhYAVWS8D"
      },
      "execution_count": 6,
      "outputs": []
    },
    {
      "cell_type": "code",
      "source": [
        "for col in authorship_columns:\n",
        "    df[col] = df[col].str.split('|')"
      ],
      "metadata": {
        "id": "LlLskjNX84Mx"
      },
      "execution_count": 13,
      "outputs": []
    },
    {
      "cell_type": "code",
      "source": [
        "# Dropping all rows where there are more affiliations than authors due to the issue of multiple authorships\n",
        "mismatched_rows = df.apply(\n",
        "    lambda row: len(row['authorships.author.display_name']) != len(row['authorships.affiliations'])\n",
        "    if isinstance(row['authorships.author.display_name'], list) and isinstance(row['authorships.affiliations'], list)\n",
        "    else False,\n",
        "    axis=1\n",
        ")\n",
        "\n",
        "df = df[~mismatched_rows]"
      ],
      "metadata": {
        "id": "lQlEC18aDAnU"
      },
      "execution_count": 14,
      "outputs": []
    },
    {
      "cell_type": "code",
      "execution_count": 15,
      "metadata": {
        "collapsed": true,
        "id": "pHaKM5eJduk0"
      },
      "outputs": [],
      "source": [
        "# Remove entries not containing the institution string\n",
        "def filter_unaffiliated(row):\n",
        "\n",
        "    if len(row['authorships.author.display_name']) != len(row['authorships.affiliations']):\n",
        "        return pd.Series([None] * len(row), index=row.index)\n",
        "\n",
        "    if isinstance(row['authorships.affiliations'], list):\n",
        "        # Identify the indices where the institution string appears in any form\n",
        "        keep_indices = [i for i, affiliation in enumerate(row['authorships.affiliations']) if institution in affiliation]\n",
        "\n",
        "        # If no matching indices, drop the row\n",
        "        if not keep_indices:\n",
        "            return pd.Series([None] * len(row), index=row.index)\n",
        "\n",
        "        # Filter each column in the authorship group based on `keep_indices`\n",
        "        for col in authorship_columns:\n",
        "            if isinstance(row[col], list):\n",
        "                # Use list comprehension to only get valid indices that exist in the current list\n",
        "                row[col] = [row[col][i] for i in keep_indices if i < len(row[col])]\n",
        "\n",
        "    return row"
      ]
    },
    {
      "cell_type": "code",
      "source": [
        "df = df.apply(filter_unaffiliated, axis=1).dropna(how='all', subset=authorship_columns)"
      ],
      "metadata": {
        "id": "SBPoJuH59AI0"
      },
      "execution_count": 16,
      "outputs": []
    },
    {
      "cell_type": "code",
      "source": [
        "for col in authorship_columns:\n",
        "    df[col] = df[col].apply(lambda x: '|'.join(x) if isinstance(x, list) else '')"
      ],
      "metadata": {
        "id": "Hxd82_TZ89Q6"
      },
      "execution_count": 17,
      "outputs": []
    },
    {
      "cell_type": "code",
      "source": [
        "filename = '' #put filename here\n",
        "\n",
        "date = datetime.datetime.today().strftime('%Y-%m-%d')"
      ],
      "metadata": {
        "id": "EwSLt59QWj7p"
      },
      "execution_count": 23,
      "outputs": []
    },
    {
      "cell_type": "code",
      "source": [
        "df.to_csv(date + '_' + filename + '.csv', index=False)"
      ],
      "metadata": {
        "id": "S5a2uHnld9yC"
      },
      "execution_count": 24,
      "outputs": []
    }
  ]
}